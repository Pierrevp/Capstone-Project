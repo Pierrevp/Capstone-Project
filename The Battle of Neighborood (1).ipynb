{
 "cells": [
  {
   "cell_type": "markdown",
   "metadata": {},
   "source": [
    "## The battle of neighboroods week 1 "
   ]
  },
  {
   "cell_type": "markdown",
   "metadata": {},
   "source": [
    "## Problem background"
   ]
  },
  {
   "cell_type": "markdown",
   "metadata": {},
   "source": [
    "The City of New York, is one of the most popular, cosmopolitan city in the United States. It is multicultural. There are many business opportunities and it is a business friendly environment especially for restaurants that are being developed everywhere as it is a global hub of business for the first world power. We are dealing with ABC Company, who wants to open a new restaurant in NYC but doesn't know where.\n",
    "\n",
    "Indeed, the restauration market is much competitive in this city. As it is a highly developed city the cost of doing business is also one of the highest, with barriers to entry. So we have to think carefully and analyse things deeply before opening any new business. By conducting such an analysis (due diligence), it will help the investors or owners reducing the risks and make the best decisions possible."
   ]
  },
  {
   "cell_type": "markdown",
   "metadata": {},
   "source": [
    "## Problem description"
   ]
  },
  {
   "cell_type": "markdown",
   "metadata": {},
   "source": [
    "The City of New York is famous for its variety of restaurants. Its food culture includes an array of international cuisines influenced by the city's immigrant history."
   ]
  },
  {
   "cell_type": "markdown",
   "metadata": {},
   "source": [
    "1. Central, Eastern European, Jewish  - bagels, cheesecake, hot dogs, knishes, delicatessens...\n",
    "2. Italian - Pizza Italian cuisine\n",
    "3. Irish  - pastrami and corned beef\n",
    "4. Asian restaurants sandwich joints, , diners, and coffeehouses\n",
    "5. Truck food vendors\n",
    "6. Middle Eastern foods such as falafel and kebabs..\n"
   ]
  },
  {
   "cell_type": "markdown",
   "metadata": {},
   "source": [
    "As a matter of fact, to survive in such competitive market, it is of paramount importance to plan carefully. Various factors need to be studied in order to decide on the location"
   ]
  },
  {
   "cell_type": "markdown",
   "metadata": {},
   "source": [
    "Population, demographics, Farmers Markets, Wholesale markets  nearby so that the ingredients can be purchased fresh to maintain quality and cost? venues like Gyms, Entertainment zones, Parks etc nearby where floating population is high etc\n",
    "Who are the competitors in that location?\n",
    "Cuisine served / Menu of the competitors\n",
    "Segmentation\n",
    "Untapped markets\n",
    "Saturated markets\n",
    "..."
   ]
  },
  {
   "cell_type": "markdown",
   "metadata": {},
   "source": [
    "We are working for ABC company that want to recommend to the management which neighborhood of NYC will be best to start a restaurant. The Management also expects to understand the rationale of the recommendations made."
   ]
  },
  {
   "cell_type": "markdown",
   "metadata": {},
   "source": [
    "The success criteria of the project will be a good recommendation of the Neighborhood choice to ABC Company  based on lack of  restaurants in that location and nearest suppliers of ingredients."
   ]
  },
  {
   "cell_type": "markdown",
   "metadata": {},
   "source": [
    "## Data"
   ]
  },
  {
   "cell_type": "markdown",
   "metadata": {},
   "source": [
    "We will study the city of NYC. To do that, we will use the datasets below:"
   ]
  },
  {
   "cell_type": "markdown",
   "metadata": {},
   "source": [
    "Data 1 : NYC has a total of  306 neighborhoods. In order to segment the neighborhoods and explore them, we will essentially need a dataset that contains the 5 boroughs and the neighborhoods that exist in each borough as well as the the latitude and logitude coordinates of each neighborhood.\n",
    "\n",
    "Link to the dataset is : https://geo.nyu.edu/catalog/nyu_2451_34572"
   ]
  },
  {
   "cell_type": "markdown",
   "metadata": {},
   "source": [
    "Data 2 : Second data which will be used is the Farmers Markets and Food Boxes dataset.\n",
    "\n",
    "https://data.cityofnewyork.us/dataset/DOHMH-Farmers-Markets-and-Food-Boxes/8vwk-6iz2\n",
    "\n",
    "\n",
    "Data 3 : For the below analysis we will get data from wikipedia as given below :\n",
    "\n",
    "NYC Population, Demographics, types of cuisine in NYC"
   ]
  },
  {
   "cell_type": "markdown",
   "metadata": {},
   "source": [
    "https://en.wikipedia.org/wiki/New_York_City\n",
    "https://en.wikipedia.org/wiki/Economy_of_New_York_City\n",
    "https://en.wikipedia.org/wiki/Portal:New_York_City\n",
    "https://en.wikipedia.org/wiki/Cuisine_of_New_York_City\n",
    "https://en.wikipedia.org/wiki/List_of_Michelin_starred_restaurants_in_New_York_City"
   ]
  },
  {
   "cell_type": "markdown",
   "metadata": {},
   "source": [
    "Data 4 : NYC geographical coordinates data will be utilized as input from Foursquare API, that will be leveraged to provision venues information for each neighborhood. We will use the Foursquare API to explore neighborhoods in NYC\n",
    "\n"
   ]
  },
  {
   "cell_type": "markdown",
   "metadata": {},
   "source": [
    "## Target audience"
   ]
  },
  {
   "cell_type": "markdown",
   "metadata": {},
   "source": [
    "The objective is to locate for the management which neighborhood of NYC will be the best choice to start a restaurant. The Management also expects to understand the rationale of the recommendations made. As a matter of fact, This would interest anyone who wants to start a new restaurant in NYC."
   ]
  },
  {
   "cell_type": "code",
   "execution_count": null,
   "metadata": {},
   "outputs": [],
   "source": []
  }
 ],
 "metadata": {
  "kernelspec": {
   "display_name": "Python",
   "language": "python",
   "name": "conda-env-python-py"
  },
  "language_info": {
   "codemirror_mode": {
    "name": "ipython",
    "version": 3
   },
   "file_extension": ".py",
   "mimetype": "text/x-python",
   "name": "python",
   "nbconvert_exporter": "python",
   "pygments_lexer": "ipython3",
   "version": "3.6.7"
  }
 },
 "nbformat": 4,
 "nbformat_minor": 4
}
